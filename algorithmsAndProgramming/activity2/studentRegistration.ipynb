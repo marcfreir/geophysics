{
 "cells": [
  {
   "cell_type": "markdown",
   "metadata": {},
   "source": [
    "## Activity 2 - Algorithms and Programming\n",
    "#### Student Registration\n",
    "\n",
    ">##### Student: Marc Freir\n",
    "\n",
    "```Version 1```"
   ]
  },
  {
   "cell_type": "code",
   "execution_count": 4,
   "metadata": {},
   "outputs": [
    {
     "name": "stdout",
     "output_type": "stream",
     "text": [
      "\n",
      "\n",
      "Enter the student's first grade Jimmy \n",
      "\n",
      "\n",
      "Enter the student's first grade Mika \n",
      "\n",
      "\n",
      "Enter the student's first grade Joe \n",
      "\n",
      "********** Student Report Card **********\n",
      "\n",
      "The student Jimmy had average 8.0 and attendance 85\n",
      "Approved(a)\n",
      "\n",
      "The student Mika had average 7.666666666666667 and attendance 87\n",
      "Approved(a)\n",
      "\n",
      "The student Joe had average 4.0 and attendance 75\n",
      "Disapproved(a)\n",
      "\n"
     ]
    }
   ],
   "source": [
    "list_of_students = []\n",
    "student_s_name = input(\"Enter student name: \")\n",
    "\n",
    "list_of_grades = []\n",
    "attendance_list = []\n",
    "\n",
    "average_grade = 7\n",
    "\n",
    "while student_s_name != \"\":\n",
    "    list_of_students.append(student_s_name)\n",
    "    student_s_name = input(\"Enter student name: \")\n",
    "\n",
    "for student in list_of_students:\n",
    "    print(\"\\n\")\n",
    "    print(\"Enter the student's first grade {} \".format(student))\n",
    "    grade1 = float(input(\"Enter the student's first grade: \"))\n",
    "    grade2 = float(input(\"Enter the student's second grade: \"))\n",
    "    grade3 = float(input(\"Enter the student's third grade: \"))\n",
    "\n",
    "    attendance = int(input(\"Enter student attendance: \"))\n",
    "    student_s_grade = ((grade1+grade2+grade3)/3)\n",
    "\n",
    "    list_of_grades.append(student_s_grade)\n",
    "    attendance_list.append(attendance)\n",
    "\n",
    "print(\"\\n********** Student Report Card **********\\n\")\n",
    "\n",
    "for index, element in enumerate(list_of_students):\n",
    "    if list_of_grades[index] >= average_grade and attendance_list[index] > 80:\n",
    "        print(\"The student {} had average {} and attendance {}\".format(element,list_of_grades[index],attendance_list[index]))\n",
    "        print(\"Approved(a)\\n\")\n",
    "    else:\n",
    "        print(\"The student {} had average {} and attendance {}\".format(element,list_of_grades[index],attendance_list[index]))\n",
    "        print(\"Disapproved(a)\\n\")\n"
   ]
  }
 ],
 "metadata": {
  "interpreter": {
   "hash": "49f574143c112e3c099708ea5b3695043fdf1f4f2ee009697256119d916ad77f"
  },
  "kernelspec": {
   "display_name": "Python 3.9.1 64-bit",
   "language": "python",
   "name": "python3"
  },
  "language_info": {
   "codemirror_mode": {
    "name": "ipython",
    "version": 3
   },
   "file_extension": ".py",
   "mimetype": "text/x-python",
   "name": "python",
   "nbconvert_exporter": "python",
   "pygments_lexer": "ipython3",
   "version": "3.9.1"
  },
  "orig_nbformat": 4
 },
 "nbformat": 4,
 "nbformat_minor": 2
}

{
 "cells": [
  {
   "cell_type": "markdown",
   "metadata": {},
   "source": [
    "## Activity 1 - Algorithms and Programming\n",
    "#### Slope and linear coefficients of an affine function\n",
    "\n",
    ">##### Student: Marc Freir\n",
    "\n",
    "```Version 3```"
   ]
  },
  {
   "cell_type": "code",
   "execution_count": 1,
   "metadata": {},
   "outputs": [
    {
     "name": "stdout",
     "output_type": "stream",
     "text": [
      "********************************************************\n",
      "****************    User-entered data   ****************\n",
      "********************************************************\n",
      "This function is increasing!\n",
      "This function is positive for x > -2.0\n",
      "This function is negative for x < -2.0\n",
      "The intersection of the function with the X axis occurs at the point x= -2.0\n",
      "The intersection of the function with the Y axis occurs at the point y= 4\n"
     ]
    }
   ],
   "source": [
    "print(\"********************************************************\")\n",
    "print(\"****************    User-entered data   ****************\")\n",
    "a = int(input(\"Enter the value of a: \"))\n",
    "b = int(input(\"Enter the value of b: \"))\n",
    "x = (-b/a)\n",
    "print(\"********************************************************\")\n",
    "\n",
    "if a > 0:\n",
    "    print(\"This function is increasing!\")\n",
    "    print(\"This function is positive for x >\", x)\n",
    "    print(\"This function is negative for x <\", x)\n",
    "elif a < 0:\n",
    "    print(\"This function is decreasing!\")\n",
    "    print(\"This function is positive for x <\", x)\n",
    "    print(\"This function is negative for x >\", x)\n",
    "\n",
    "print(\"The intersection of the function with the X axis occurs at the point x=\", x)\n",
    "print(\"The intersection of the function with the Y axis occurs at the point y=\", b)"
   ]
  }
 ],
 "metadata": {
  "interpreter": {
   "hash": "49f574143c112e3c099708ea5b3695043fdf1f4f2ee009697256119d916ad77f"
  },
  "kernelspec": {
   "display_name": "Python 3.9.1 64-bit",
   "language": "python",
   "name": "python3"
  },
  "language_info": {
   "codemirror_mode": {
    "name": "ipython",
    "version": 3
   },
   "file_extension": ".py",
   "mimetype": "text/x-python",
   "name": "python",
   "nbconvert_exporter": "python",
   "pygments_lexer": "ipython3",
   "version": "3.9.1"
  },
  "orig_nbformat": 4
 },
 "nbformat": 4,
 "nbformat_minor": 2
}
